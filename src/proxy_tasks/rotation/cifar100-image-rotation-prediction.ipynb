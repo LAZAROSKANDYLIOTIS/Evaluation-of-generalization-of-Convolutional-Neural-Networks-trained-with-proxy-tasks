{
 "cells": [
  {
   "cell_type": "code",
   "execution_count": null,
   "id": "cadc26b2",
   "metadata": {
    "execution": {
     "iopub.execute_input": "2024-09-14T17:54:45.575019Z",
     "iopub.status.busy": "2024-09-14T17:54:45.574345Z",
     "iopub.status.idle": "2024-09-14T17:54:51.258394Z",
     "shell.execute_reply": "2024-09-14T17:54:51.257616Z"
    },
    "papermill": {
     "duration": 5.69265,
     "end_time": "2024-09-14T17:54:51.260812",
     "exception": false,
     "start_time": "2024-09-14T17:54:45.568162",
     "status": "completed"
    },
    "tags": []
   },
   "outputs": [],
   "source": [
    "import os\n",
    "import shutil\n",
    "from PIL import Image, ImageOps, ImageDraw\n",
    "from torchvision.transforms import functional as F\n",
    "import numpy as np\n",
    "import torch\n",
    "from torch.utils.data import Dataset, DataLoader, Subset\n",
    "from torchvision import transforms\n",
    "from sklearn.model_selection import train_test_split\n",
    "import matplotlib.pyplot as plt\n",
    "import torch.nn as nn\n",
    "import torch.optim as optim\n",
    "from tqdm import tqdm\n",
    "from torchvision import models\n",
    "import random\n",
    "from torch.optim import lr_scheduler"
   ]
  },
  {
   "cell_type": "code",
   "execution_count": null,
   "id": "fedb35e7",
   "metadata": {
    "execution": {
     "iopub.execute_input": "2024-09-14T17:54:51.271701Z",
     "iopub.status.busy": "2024-09-14T17:54:51.271264Z",
     "iopub.status.idle": "2024-09-14T17:54:51.278996Z",
     "shell.execute_reply": "2024-09-14T17:54:51.278135Z"
    },
    "papermill": {
     "duration": 0.015212,
     "end_time": "2024-09-14T17:54:51.280918",
     "exception": false,
     "start_time": "2024-09-14T17:54:51.265706",
     "status": "completed"
    },
    "tags": []
   },
   "outputs": [],
   "source": [
    "def delete_all_in_folder(folder_path):\n",
    "    if os.path.exists(folder_path):\n",
    "        for filename in os.listdir(folder_path):\n",
    "            file_path = os.path.join(folder_path, filename)\n",
    "            try:\n",
    "                if os.path.isfile(file_path) or os.path.islink(file_path):\n",
    "                    os.unlink(file_path)\n",
    "                elif os.path.isdir(file_path):\n",
    "                    shutil.rmtree(file_path)\n",
    "            except Exception as e:\n",
    "                print(f'Failed to delete {file_path}. Reason: {e}')\n",
    "    else:\n",
    "        print(f'The folder {folder_path} does not exist.')\n",
    "delete_all_in_folder('/kaggle/working/')"
   ]
  },
  {
   "cell_type": "code",
   "execution_count": null,
   "id": "065bef50",
   "metadata": {
    "execution": {
     "iopub.execute_input": "2024-09-14T17:54:51.290388Z",
     "iopub.status.busy": "2024-09-14T17:54:51.290097Z",
     "iopub.status.idle": "2024-09-14T17:54:51.302223Z",
     "shell.execute_reply": "2024-09-14T17:54:51.301454Z"
    },
    "papermill": {
     "duration": 0.019009,
     "end_time": "2024-09-14T17:54:51.304130",
     "exception": false,
     "start_time": "2024-09-14T17:54:51.285121",
     "status": "completed"
    },
    "tags": []
   },
   "outputs": [],
   "source": [
    "def set_seed(seed_value: int):\n",
    "    \"\"\"\n",
    "    Set the seed for reproducibility in Python, NumPy, and PyTorch.\n",
    "    Args:\n",
    "    - seed_value (int): The seed value to use for reproducibility.\n",
    "    \"\"\"\n",
    "    random.seed(seed_value)\n",
    "    np.random.seed(seed_value)\n",
    "    torch.manual_seed(seed_value)\n",
    "    torch.cuda.manual_seed(seed_value)\n",
    "    torch.cuda.manual_seed_all(seed_value)\n",
    "    torch.backends.cudnn.deterministic = True\n",
    "    torch.backends.cudnn.benchmark = False\n",
    "seed_value = 42\n",
    "set_seed(seed_value)"
   ]
  },
  {
   "cell_type": "code",
   "execution_count": null,
   "id": "d624079d",
   "metadata": {
    "execution": {
     "iopub.execute_input": "2024-09-14T17:54:51.313713Z",
     "iopub.status.busy": "2024-09-14T17:54:51.313420Z",
     "iopub.status.idle": "2024-09-14T17:54:51.324236Z",
     "shell.execute_reply": "2024-09-14T17:54:51.323480Z"
    },
    "papermill": {
     "duration": 0.017696,
     "end_time": "2024-09-14T17:54:51.326096",
     "exception": false,
     "start_time": "2024-09-14T17:54:51.308400",
     "status": "completed"
    },
    "tags": []
   },
   "outputs": [],
   "source": [
    "class CIFAR100RotationDataset(Dataset):\n",
    "    def __init__(self, folder, transform=None):\n",
    "        self.folder = folder\n",
    "        self.transform = transform\n",
    "        self.image_paths = []\n",
    "        self.labels = []\n",
    "        self.class_to_idx = {}\n",
    "        class_names = sorted(os.listdir(folder))\n",
    "        self.class_to_idx = {class_name: idx for idx, class_name in enumerate(class_names)}\n",
    "        for class_folder in class_names:\n",
    "            class_path = os.path.join(folder, class_folder)\n",
    "            if os.path.isdir(class_path):\n",
    "                for img_name in os.listdir(class_path):\n",
    "                    if img_name.endswith('.png'):\n",
    "                        img_path = os.path.join(class_path, img_name)\n",
    "                        self.image_paths.append(img_path)\n",
    "                        label = self.class_to_idx[class_folder]\n",
    "                        self.labels.append(label)\n",
    "        print(f\"Class to index mapping: {self.class_to_idx}\")\n",
    "        print(f\"Loaded {len(self.image_paths)} images from {self.folder}\")\n",
    "    def __len__(self):\n",
    "        return len(self.image_paths)\n",
    "    def __getitem__(self, idx):\n",
    "        img_path = self.image_paths[idx]\n",
    "        image = Image.open(img_path).convert('RGB')\n",
    "        rotation_angle = np.random.choice([0, 90, 180, 270])\n",
    "        rotated_image = image.rotate(rotation_angle, expand=False)\n",
    "        if self.transform:\n",
    "            rotated_image = self.transform(rotated_image)\n",
    "        label = rotation_angle // 90\n",
    "        return rotated_image, label"
   ]
  },
  {
   "cell_type": "code",
   "execution_count": null,
   "id": "2d09e0d9",
   "metadata": {
    "execution": {
     "iopub.execute_input": "2024-09-14T17:54:51.335710Z",
     "iopub.status.busy": "2024-09-14T17:54:51.335408Z",
     "iopub.status.idle": "2024-09-14T17:54:51.340678Z",
     "shell.execute_reply": "2024-09-14T17:54:51.339841Z"
    },
    "papermill": {
     "duration": 0.012133,
     "end_time": "2024-09-14T17:54:51.342486",
     "exception": false,
     "start_time": "2024-09-14T17:54:51.330353",
     "status": "completed"
    },
    "tags": []
   },
   "outputs": [],
   "source": [
    "class ResNetRotationModel(nn.Module):\n",
    "    def __init__(self):\n",
    "        super(ResNetRotationModel, self).__init__()\n",
    "        self.resnet = models.resnet50(pretrained=False)\n",
    "        num_features = self.resnet.fc.in_features\n",
    "        self.resnet.fc = nn.Linear(num_features, 4)\n",
    "    def forward(self, x):\n",
    "        return self.resnet(x)"
   ]
  },
  {
   "cell_type": "code",
   "execution_count": null,
   "id": "7960c092",
   "metadata": {
    "execution": {
     "iopub.execute_input": "2024-09-14T17:54:51.392329Z",
     "iopub.status.busy": "2024-09-14T17:54:51.392044Z",
     "iopub.status.idle": "2024-09-14T17:54:51.411639Z",
     "shell.execute_reply": "2024-09-14T17:54:51.410860Z"
    },
    "papermill": {
     "duration": 0.026735,
     "end_time": "2024-09-14T17:54:51.413531",
     "exception": false,
     "start_time": "2024-09-14T17:54:51.386796",
     "status": "completed"
    },
    "tags": []
   },
   "outputs": [],
   "source": [
    "def train_model(model, train_loader, val_loader, criterion, optimizer, device, num_epochs=10):\n",
    "    model.to(device)\n",
    "    best_val_acc = 0.0\n",
    "    best_model_wts = None\n",
    "    for epoch in range(num_epochs):\n",
    "        model.train()\n",
    "        running_loss = 0.0\n",
    "        running_corrects = 0\n",
    "        total_samples = 0\n",
    "        train_bar = tqdm(train_loader, desc=f\"Epoch {epoch+1}/{num_epochs} Training\", leave=False)\n",
    "        for inputs, labels in train_bar:\n",
    "            inputs, labels = inputs.to(device), labels.to(device)\n",
    "            optimizer.zero_grad()\n",
    "            with torch.set_grad_enabled(True):\n",
    "                outputs = model(inputs)\n",
    "                loss = criterion(outputs, labels)\n",
    "                loss.backward()\n",
    "                optimizer.step()\n",
    "            _, preds = torch.max(outputs, 1)\n",
    "            batch_corrects = torch.sum(preds == labels.data)\n",
    "            batch_acc = (batch_corrects.double() / inputs.size(0)).item() * 100\n",
    "            running_loss += loss.item() * inputs.size(0)\n",
    "            running_corrects += batch_corrects\n",
    "            total_samples += inputs.size(0)\n",
    "            train_bar.set_postfix(\n",
    "                loss=loss.item(),\n",
    "                acc=batch_acc\n",
    "            )\n",
    "        epoch_loss = running_loss / total_samples\n",
    "        epoch_acc = (running_corrects.double() / total_samples).item() * 100\n",
    "        print(f'Epoch {epoch+1}/{num_epochs} - Train Loss: {epoch_loss:.4f} - Train Acc: {epoch_acc:.2f}%')\n",
    "        model.eval()\n",
    "        val_running_loss = 0.0\n",
    "        val_running_corrects = 0\n",
    "        val_total_samples = 0\n",
    "        val_bar = tqdm(val_loader, desc=f\"Epoch {epoch+1}/{num_epochs} Validation\", leave=False)\n",
    "        with torch.no_grad():\n",
    "            for inputs, labels in val_bar:\n",
    "                inputs, labels = inputs.to(device), labels.to(device)\n",
    "                outputs = model(inputs)\n",
    "                loss = criterion(outputs, labels)\n",
    "                _, preds = torch.max(outputs, 1)\n",
    "                batch_corrects = torch.sum(preds == labels.data)\n",
    "                batch_acc = (batch_corrects.double() / inputs.size(0)).item() * 100\n",
    "                val_running_loss += loss.item() * inputs.size(0)\n",
    "                val_running_corrects += batch_corrects\n",
    "                val_total_samples += inputs.size(0)\n",
    "                val_bar.set_postfix(\n",
    "                    loss=loss.item(),\n",
    "                    acc=batch_acc\n",
    "                )\n",
    "        val_loss = val_running_loss / val_total_samples\n",
    "        val_acc = (val_running_corrects.double() / val_total_samples).item() * 100\n",
    "        print(f'Epoch {epoch+1}/{num_epochs} - Val Loss: {val_loss:.4f} - Val Acc: {val_acc:.2f}%')\n",
    "        if val_acc > best_val_acc:\n",
    "            best_val_acc = val_acc\n",
    "            best_model_wts = model.state_dict()\n",
    "    if best_model_wts:\n",
    "        model.load_state_dict(best_model_wts)\n",
    "    torch.save(model.state_dict(), 'best_rotation_model.pth')\n",
    "def test_model(model, test_loader, criterion, device):\n",
    "    model.to(device)\n",
    "    model.eval()\n",
    "    running_loss = 0.0\n",
    "    running_corrects = 0\n",
    "    total_samples = 0\n",
    "    test_bar = tqdm(test_loader, desc=\"Testing\", leave=False)\n",
    "    with torch.no_grad():\n",
    "        for inputs, labels in test_bar:\n",
    "            inputs, labels = inputs.to(device), labels.to(device)\n",
    "            outputs = model(inputs)\n",
    "            loss = criterion(outputs, labels)\n",
    "            _, preds = torch.max(outputs, 1)\n",
    "            running_loss += loss.item() * inputs.size(0)\n",
    "            running_corrects += torch.sum(preds == labels.data)\n",
    "            total_samples += inputs.size(0)\n",
    "            test_bar.set_postfix(\n",
    "                loss=running_loss / total_samples,\n",
    "                acc=(running_corrects.double() / total_samples).item() * 100\n",
    "            )\n",
    "    epoch_loss = running_loss / total_samples\n",
    "    epoch_acc = (running_corrects.double() / total_samples).item() * 100\n",
    "    print(f'Test Loss: {epoch_loss:.4f} - Test Acc: {epoch_acc:.2f}%')"
   ]
  },
  {
   "cell_type": "code",
   "execution_count": null,
   "id": "237965a4",
   "metadata": {
    "execution": {
     "iopub.execute_input": "2024-09-14T17:54:51.423210Z",
     "iopub.status.busy": "2024-09-14T17:54:51.422743Z",
     "iopub.status.idle": "2024-09-14T17:54:59.697425Z",
     "shell.execute_reply": "2024-09-14T17:54:59.696617Z"
    },
    "papermill": {
     "duration": 8.281981,
     "end_time": "2024-09-14T17:54:59.699741",
     "exception": false,
     "start_time": "2024-09-14T17:54:51.417760",
     "status": "completed"
    },
    "tags": []
   },
   "outputs": [],
   "source": [
    "device = torch.device(\"cuda\" if torch.cuda.is_available() else \"cpu\")\n",
    "transform = transforms.Compose([\n",
    "    transforms.Resize((224, 224)),\n",
    "    transforms.ToTensor()\n",
    "])\n",
    "train_dataset = CIFAR100RotationDataset(folder='/kaggle/input/cifar100/cifar100/train', transform=transform)\n",
    "test_dataset = CIFAR100RotationDataset(folder='/kaggle/input/cifar100/cifar100/test', transform=transform)\n",
    "print(f\"Number of samples in train dataset: {len(train_dataset)}\")\n",
    "print(f\"Number of samples in test dataset: {len(test_dataset)}\")\n",
    "train_idx, val_idx = train_test_split(\n",
    "    list(range(len(train_dataset))), test_size=0.20, stratify=train_dataset.labels\n",
    ")\n",
    "train_set = Subset(train_dataset, train_idx)\n",
    "val_set = Subset(train_dataset, val_idx)\n",
    "print(f'Training set size: {len(train_set)}')\n",
    "print(f'Validation set size: {len(val_set)}')\n",
    "print(f'Test set size: {len(test_dataset)}')\n",
    "train_loader = DataLoader(train_set, batch_size=64, shuffle=True, num_workers=4)\n",
    "val_loader = DataLoader(val_set, batch_size=64, shuffle=False, num_workers=4)\n",
    "test_loader = DataLoader(test_dataset, batch_size=64, shuffle=False, num_workers=4)\n",
    "model = ResNetRotationModel().to(device)\n",
    "optimizer = optim.Adam(model.parameters(), lr=0.001, weight_decay = 1e-4)\n",
    "criterion = nn.CrossEntropyLoss()"
   ]
  },
  {
   "cell_type": "code",
   "execution_count": null,
   "id": "e06eec50",
   "metadata": {
    "execution": {
     "iopub.execute_input": "2024-09-14T17:55:04.711978Z",
     "iopub.status.busy": "2024-09-14T17:55:04.711007Z",
     "iopub.status.idle": "2024-09-14T22:33:16.836140Z",
     "shell.execute_reply": "2024-09-14T22:33:16.834789Z"
    },
    "papermill": {
     "duration": 16692.17585,
     "end_time": "2024-09-14T22:33:16.838272",
     "exception": false,
     "start_time": "2024-09-14T17:55:04.662422",
     "status": "completed"
    },
    "tags": []
   },
   "outputs": [],
   "source": [
    "train_model(model, train_loader, val_loader, criterion, optimizer, device, num_epochs=70)"
   ]
  },
  {
   "cell_type": "code",
   "execution_count": null,
   "id": "a9cf8413",
   "metadata": {
    "execution": {
     "iopub.execute_input": "2024-09-14T22:33:34.802799Z",
     "iopub.status.busy": "2024-09-14T22:33:34.802376Z",
     "iopub.status.idle": "2024-09-14T22:33:55.596761Z",
     "shell.execute_reply": "2024-09-14T22:33:55.595642Z"
    },
    "papermill": {
     "duration": 29.789053,
     "end_time": "2024-09-14T22:33:55.598846",
     "exception": false,
     "start_time": "2024-09-14T22:33:25.809793",
     "status": "completed"
    },
    "tags": []
   },
   "outputs": [],
   "source": [
    "model.load_state_dict(torch.load('best_rotation_model.pth'))\n",
    "test_model(model, test_loader, criterion, device)"
   ]
  }
 ],
 "metadata": {
  "kaggle": {
   "accelerator": "gpu",
   "dataSources": [
    {
     "datasetId": 30279,
     "sourceId": 38601,
     "sourceType": "datasetVersion"
    },
    {
     "datasetId": 42895,
     "sourceId": 76089,
     "sourceType": "datasetVersion"
    },
    {
     "datasetId": 5333955,
     "sourceId": 8914197,
     "sourceType": "datasetVersion"
    }
   ],
   "isGpuEnabled": true,
   "isInternetEnabled": true,
   "language": "python",
   "sourceType": "notebook"
  },
  "kernelspec": {
   "display_name": "Python 3",
   "language": "python",
   "name": "python3"
  },
  "language_info": {
   "codemirror_mode": {
    "name": "ipython",
    "version": 3
   },
   "file_extension": ".py",
   "mimetype": "text/x-python",
   "name": "python",
   "nbconvert_exporter": "python",
   "pygments_lexer": "ipython3",
   "version": "3.10.14"
  },
  "papermill": {
   "default_parameters": {},
   "duration": 16764.34497,
   "end_time": "2024-09-14T22:34:07.254172",
   "environment_variables": {},
   "exception": null,
   "input_path": "__notebook__.ipynb",
   "output_path": "__notebook__.ipynb",
   "parameters": {},
   "start_time": "2024-09-14T17:54:42.909202",
   "version": "2.6.0"
  }
 },
 "nbformat": 4,
 "nbformat_minor": 5
}
