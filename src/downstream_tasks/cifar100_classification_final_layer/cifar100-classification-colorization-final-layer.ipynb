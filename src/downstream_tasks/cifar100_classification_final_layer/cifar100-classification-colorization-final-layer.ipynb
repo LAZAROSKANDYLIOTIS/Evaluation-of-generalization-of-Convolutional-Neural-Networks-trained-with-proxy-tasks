{
 "cells": [
  {
   "cell_type": "code",
   "execution_count": null,
   "id": "84a01532",
   "metadata": {
    "execution": {
     "iopub.execute_input": "2024-09-14T15:31:58.392314Z",
     "iopub.status.busy": "2024-09-14T15:31:58.391536Z",
     "iopub.status.idle": "2024-09-14T15:32:02.032716Z",
     "shell.execute_reply": "2024-09-14T15:32:02.031633Z",
     "shell.execute_reply.started": "2024-09-14T15:31:58.392268Z"
    },
    "papermill": {
     "duration": 6.179673,
     "end_time": "2024-08-21T11:48:01.099055",
     "exception": false,
     "start_time": "2024-08-21T11:47:54.919382",
     "status": "completed"
    },
    "tags": []
   },
   "outputs": [],
   "source": [
    "import os\n",
    "import shutil\n",
    "import torch\n",
    "import torch.nn as nn\n",
    "import torch.optim as optim\n",
    "import torchvision.models as models\n",
    "from torch.utils.data import DataLoader, Dataset, Subset\n",
    "from torchvision import transforms\n",
    "from sklearn.model_selection import train_test_split\n",
    "from PIL import Image\n",
    "from tqdm import tqdm\n",
    "import random\n",
    "import matplotlib.pyplot as plt\n",
    "import numpy as np"
   ]
  },
  {
   "cell_type": "code",
   "execution_count": null,
   "id": "e5740fe1",
   "metadata": {
    "execution": {
     "iopub.execute_input": "2024-09-14T15:32:02.035030Z",
     "iopub.status.busy": "2024-09-14T15:32:02.034559Z",
     "iopub.status.idle": "2024-09-14T15:32:02.060059Z",
     "shell.execute_reply": "2024-09-14T15:32:02.059069Z",
     "shell.execute_reply.started": "2024-09-14T15:32:02.034994Z"
    },
    "papermill": {
     "duration": 0.014671,
     "end_time": "2024-08-21T11:48:01.118142",
     "exception": false,
     "start_time": "2024-08-21T11:48:01.103471",
     "status": "completed"
    },
    "tags": []
   },
   "outputs": [],
   "source": [
    "def delete_all_in_folder(folder_path):\n",
    "    if os.path.exists(folder_path):\n",
    "        for filename in os.listdir(folder_path):\n",
    "            file_path = os.path.join(folder_path, filename)\n",
    "            try:\n",
    "                if os.path.isfile(file_path) or os.path.islink(file_path):\n",
    "                    os.unlink(file_path)\n",
    "                elif os.path.isdir(file_path):\n",
    "                    shutil.rmtree(file_path)\n",
    "            except Exception as e:\n",
    "                print(f'Failed to delete {file_path}. Reason: {e}')\n",
    "    else:\n",
    "        print(f'The folder {folder_path} does not exist.')\n",
    "delete_all_in_folder('/kaggle/working/')"
   ]
  },
  {
   "cell_type": "code",
   "execution_count": null,
   "id": "7af9033a",
   "metadata": {
    "execution": {
     "iopub.execute_input": "2024-09-14T15:32:02.062085Z",
     "iopub.status.busy": "2024-09-14T15:32:02.061672Z",
     "iopub.status.idle": "2024-09-14T15:32:02.072433Z",
     "shell.execute_reply": "2024-09-14T15:32:02.071244Z",
     "shell.execute_reply.started": "2024-09-14T15:32:02.062038Z"
    },
    "papermill": {
     "duration": 0.015879,
     "end_time": "2024-08-21T11:48:01.138038",
     "exception": false,
     "start_time": "2024-08-21T11:48:01.122159",
     "status": "completed"
    },
    "tags": []
   },
   "outputs": [],
   "source": [
    "def set_seed(seed_value: int):\n",
    "    \"\"\"\n",
    "    Set the seed for reproducibility in Python, NumPy, and PyTorch.\n",
    "    Args:\n",
    "    - seed_value (int): The seed value to use for reproducibility.\n",
    "    \"\"\"\n",
    "    random.seed(seed_value)\n",
    "    np.random.seed(seed_value)\n",
    "    torch.manual_seed(seed_value)\n",
    "    torch.cuda.manual_seed(seed_value)\n",
    "    torch.cuda.manual_seed_all(seed_value)\n",
    "    torch.backends.cudnn.deterministic = True\n",
    "    torch.backends.cudnn.benchmark = False\n",
    "seed_value = 42\n",
    "set_seed(seed_value)"
   ]
  },
  {
   "cell_type": "code",
   "execution_count": null,
   "id": "d8322c42",
   "metadata": {
    "execution": {
     "iopub.execute_input": "2024-09-14T15:32:02.074411Z",
     "iopub.status.busy": "2024-09-14T15:32:02.074033Z",
     "iopub.status.idle": "2024-09-14T15:32:02.106308Z",
     "shell.execute_reply": "2024-09-14T15:32:02.105222Z",
     "shell.execute_reply.started": "2024-09-14T15:32:02.074366Z"
    },
    "papermill": {
     "duration": 0.035919,
     "end_time": "2024-08-21T11:48:01.177935",
     "exception": false,
     "start_time": "2024-08-21T11:48:01.142016",
     "status": "completed"
    },
    "tags": []
   },
   "outputs": [],
   "source": [
    "class CIFAR10Dataset(Dataset):\n",
    "    def __init__(self, folder, transform=None):\n",
    "        self.folder = folder\n",
    "        self.transform = transform\n",
    "        self.image_paths = []\n",
    "        self.labels = []\n",
    "        self.classes = sorted(os.listdir(folder))\n",
    "        for label, class_name in enumerate(self.classes):\n",
    "            class_folder = os.path.join(folder, class_name)\n",
    "            for file in os.listdir(class_folder):\n",
    "                if file.endswith((\".jpg\", \".png\")):\n",
    "                    self.image_paths.append(os.path.join(class_folder, file))\n",
    "                    self.labels.append(label)\n",
    "    def __len__(self):\n",
    "        return len(self.image_paths)\n",
    "    def __getitem__(self, index):\n",
    "        image_path = self.image_paths[index]\n",
    "        label = self.labels[index]\n",
    "        image = Image.open(image_path).convert('RGB')\n",
    "        if self.transform:\n",
    "            image = self.transform(image)\n",
    "        return image, label\n",
    "class ColorizationResnet(nn.Module):\n",
    "    def __init__(self):\n",
    "        super(ColorizationResnet, self).__init__()\n",
    "        resnet = models.resnet50(weights=None)\n",
    "        self.encoder_layers = list(resnet.children())[:-2]\n",
    "        self.encoder1 = nn.Sequential(*self.encoder_layers[:4])\n",
    "        self.encoder2 = self.encoder_layers[4]\n",
    "        self.encoder3 = self.encoder_layers[5]\n",
    "        self.encoder4 = self.encoder_layers[6]\n",
    "        self.encoder5 = self.encoder_layers[7]\n",
    "        self.decoder5 = nn.Sequential(\n",
    "            nn.ConvTranspose2d(2048, 1024, kernel_size=3, stride=2, padding=1, output_padding=1),\n",
    "            nn.BatchNorm2d(1024),\n",
    "            nn.ReLU()\n",
    "        )\n",
    "        self.decoder4 = nn.Sequential(\n",
    "            nn.ConvTranspose2d(1024 + 1024, 512, kernel_size=3, stride=2, padding=1, output_padding=1),\n",
    "            nn.BatchNorm2d(512),\n",
    "            nn.ReLU()\n",
    "        )\n",
    "        self.decoder3 = nn.Sequential(\n",
    "            nn.ConvTranspose2d(512 + 512, 256, kernel_size=3, stride=2, padding=1, output_padding=1),\n",
    "            nn.BatchNorm2d(256),\n",
    "            nn.ReLU()\n",
    "        )\n",
    "        self.decoder2 = nn.Sequential(\n",
    "            nn.ConvTranspose2d(256 + 256, 128, kernel_size=3, stride=2, padding=1, output_padding=1),\n",
    "            nn.BatchNorm2d(128),\n",
    "            nn.ReLU()\n",
    "        )\n",
    "        self.decoder1 = nn.Sequential(\n",
    "            nn.ConvTranspose2d(128 + 64, 64, kernel_size=3, stride=2, padding=1, output_padding=1),\n",
    "            nn.BatchNorm2d(64),\n",
    "            nn.ReLU()\n",
    "        )\n",
    "        self.final_layer = nn.Sequential(\n",
    "            nn.Conv2d(64, 32, kernel_size=3, padding=1),\n",
    "            nn.BatchNorm2d(32),\n",
    "            nn.ReLU(),\n",
    "            nn.Conv2d(32, 3, kernel_size=3, padding=1),\n",
    "            nn.Sigmoid()\n",
    "        )\n",
    "    def forward(self, x):\n",
    "        enc1 = self.encoder1(x)\n",
    "        enc2 = self.encoder2(enc1)\n",
    "        enc3 = self.encoder3(enc2)\n",
    "        enc4 = self.encoder4(enc3)\n",
    "        enc5 = self.encoder5(enc4)\n",
    "        dec5 = self.decoder5(enc5)\n",
    "        dec4 = self.decoder4(torch.cat([dec5, enc4], dim=1))\n",
    "        dec3 = self.decoder3(torch.cat([dec4, enc3], dim=1))\n",
    "        dec2 = self.decoder2(torch.cat([dec3, enc2], dim=1))\n",
    "        dec1 = self.decoder1(torch.cat([dec2, enc1], dim=1))\n",
    "        output = self.final_layer(dec1)\n",
    "        return output\n",
    "class ColorizationResNetForClassification(nn.Module):\n",
    "    def __init__(self, pretrained_weights_path, num_classes=100):\n",
    "        super(ColorizationResNetForClassification, self).__init__()\n",
    "        inpainting_model = ColorizationResnet()\n",
    "        checkpoint = torch.load(pretrained_weights_path, map_location=torch.device('cpu'))\n",
    "        inpainting_model.load_state_dict(checkpoint, strict=False)\n",
    "        self.encoder1 = inpainting_model.encoder1\n",
    "        self.encoder2 = inpainting_model.encoder2\n",
    "        self.encoder3 = inpainting_model.encoder3\n",
    "        self.encoder4 = inpainting_model.encoder4\n",
    "        self.encoder5 = inpainting_model.encoder5\n",
    "        for param in self.encoder1.parameters():\n",
    "            param.requires_grad = False\n",
    "        for param in self.encoder2.parameters():\n",
    "            param.requires_grad = False\n",
    "        for param in self.encoder3.parameters():\n",
    "            param.requires_grad = False\n",
    "        for param in self.encoder4.parameters():\n",
    "            param.requires_grad = False\n",
    "        for param in self.encoder5.parameters():\n",
    "            param.requires_grad = False\n",
    "        self.fc = nn.Linear(2048, num_classes)\n",
    "        for param in self.fc.parameters():\n",
    "            param.requires_grad = True\n",
    "    def forward(self, x):\n",
    "        x = self.encoder1(x)\n",
    "        x = self.encoder2(x)\n",
    "        x = self.encoder3(x)\n",
    "        x = self.encoder4(x)\n",
    "        x = self.encoder5(x)\n",
    "        x = nn.AdaptiveAvgPool2d((1, 1))(x)\n",
    "        x = torch.flatten(x, 1)\n",
    "        x = self.fc(x)\n",
    "        return x"
   ]
  },
  {
   "cell_type": "code",
   "execution_count": null,
   "id": "9f35eb6f",
   "metadata": {
    "execution": {
     "iopub.execute_input": "2024-09-14T15:32:02.109911Z",
     "iopub.status.busy": "2024-09-14T15:32:02.109209Z",
     "iopub.status.idle": "2024-09-14T15:32:02.121284Z",
     "shell.execute_reply": "2024-09-14T15:32:02.120231Z",
     "shell.execute_reply.started": "2024-09-14T15:32:02.109872Z"
    },
    "papermill": {
     "duration": 0.017335,
     "end_time": "2024-08-21T11:48:01.199418",
     "exception": false,
     "start_time": "2024-08-21T11:48:01.182083",
     "status": "completed"
    },
    "tags": []
   },
   "outputs": [],
   "source": [
    "def plot_random_images_from_dataset(dataset, num_images=10):\n",
    "    indices = random.sample(range(len(dataset)), num_images)\n",
    "    class_names = dataset.classes\n",
    "    plt.figure(figsize=(15, 8))\n",
    "    for i, idx in enumerate(indices):\n",
    "        image, label = dataset[idx]\n",
    "        image = image.permute(1, 2, 0)\n",
    "        plt.subplot(2, 5, i+1)\n",
    "        plt.imshow(image)\n",
    "        plt.title(f\"Class: {class_names[label]}\")\n",
    "        plt.axis('off')\n",
    "    plt.tight_layout()\n",
    "    plt.show()\n",
    "def plot_predictions(model, dataset, num_images=10):\n",
    "    model.eval()\n",
    "    indices = random.sample(range(len(dataset)), num_images)\n",
    "    class_names = dataset.classes\n",
    "    plt.figure(figsize=(15, 8))\n",
    "    with torch.no_grad():\n",
    "        for i, idx in enumerate(indices):\n",
    "            image, true_label = dataset[idx]\n",
    "            image_for_model = image.unsqueeze(0).to(device)\n",
    "            outputs = model(image_for_model)\n",
    "            _, predicted_label = torch.max(outputs, 1)\n",
    "            image = image.permute(1, 2, 0)\n",
    "            plt.subplot(2, 5, i+1)\n",
    "            plt.imshow(image)\n",
    "            plt.title(f\"True: {class_names[true_label]}\\nPred: {class_names[predicted_label.item()]}\")\n",
    "            plt.axis('off')\n",
    "    plt.tight_layout()\n",
    "    plt.show()"
   ]
  },
  {
   "cell_type": "code",
   "execution_count": null,
   "id": "4383ca94",
   "metadata": {
    "execution": {
     "iopub.execute_input": "2024-09-14T15:32:02.123389Z",
     "iopub.status.busy": "2024-09-14T15:32:02.122941Z",
     "iopub.status.idle": "2024-09-14T15:32:02.143479Z",
     "shell.execute_reply": "2024-09-14T15:32:02.142376Z",
     "shell.execute_reply.started": "2024-09-14T15:32:02.123341Z"
    },
    "papermill": {
     "duration": 0.025278,
     "end_time": "2024-08-21T11:48:01.228719",
     "exception": false,
     "start_time": "2024-08-21T11:48:01.203441",
     "status": "completed"
    },
    "tags": []
   },
   "outputs": [],
   "source": [
    "def train_and_val(model, train_loader, val_loader, criterion, optimizer, dataset, num_epochs=25, save_path='best_model.pth'):\n",
    "    best_val_acc = 0.0\n",
    "    for epoch in range(num_epochs):\n",
    "        print(f\"Epoch {epoch+1}/{num_epochs}\")\n",
    "        model.train()\n",
    "        running_loss = 0.0\n",
    "        running_corrects = 0\n",
    "        train_bar = tqdm(train_loader, desc=f\"Training Epoch {epoch+1}/{num_epochs}\", leave=False)\n",
    "        for inputs, labels in train_bar:\n",
    "            inputs, labels = inputs.to(device), labels.to(device)\n",
    "            optimizer.zero_grad()\n",
    "            outputs = model(inputs)\n",
    "            loss = criterion(outputs, labels)\n",
    "            loss.backward()\n",
    "            optimizer.step()\n",
    "            _, preds = torch.max(outputs, 1)\n",
    "            running_loss += loss.item() * inputs.size(0)\n",
    "            running_corrects += torch.sum(preds == labels.data)\n",
    "            current_loss = running_loss / len(train_loader.dataset)\n",
    "            current_acc = running_corrects.double() / len(train_loader.dataset)\n",
    "            train_bar.set_postfix(Loss=f\"{current_loss:.4f}\", Accuracy=f\"{current_acc:.4f}\")\n",
    "        epoch_loss = running_loss / len(train_loader.dataset)\n",
    "        epoch_acc = running_corrects.double() / len(train_loader.dataset)\n",
    "        print(f\"Training Loss: {epoch_loss:.4f} Acc: {epoch_acc:.4f}\")\n",
    "        model.eval()\n",
    "        val_loss = 0.0\n",
    "        val_corrects = 0\n",
    "        val_bar = tqdm(val_loader, desc=f\"Validation Epoch {epoch+1}/{num_epochs}\", leave=False)\n",
    "        with torch.no_grad():\n",
    "            for inputs, labels in val_bar:\n",
    "                inputs, labels = inputs.to(device), labels.to(device)\n",
    "                outputs = model(inputs)\n",
    "                loss = criterion(outputs, labels)\n",
    "                _, preds = torch.max(outputs, 1)\n",
    "                val_loss += loss.item() * inputs.size(0)\n",
    "                val_corrects += torch.sum(preds == labels.data)\n",
    "                current_val_loss = val_loss / len(val_loader.dataset)\n",
    "                current_val_acc = val_corrects.double() / len(val_loader.dataset)\n",
    "                val_bar.set_postfix(Val_Loss=f\"{current_val_loss:.4f}\", Val_Accuracy=f\"{current_val_acc:.4f}\")\n",
    "        val_loss /= len(val_loader.dataset)\n",
    "        val_acc = val_corrects.double() / len(val_loader.dataset)\n",
    "        print(f\"Validation Loss: {val_loss:.4f} Acc: {val_acc:.4f}\")\n",
    "        if val_acc > best_val_acc:\n",
    "            best_val_acc = val_acc\n",
    "            torch.save(model.state_dict(), save_path)\n",
    "            print(f\"Best model saved with accuracy: {best_val_acc:.4f}\")\n",
    "def test(model, test_loader, criterion, model_path='/kaggle/working/best_model.pth'):\n",
    "    model.load_state_dict(torch.load(model_path))\n",
    "    model.eval()\n",
    "    test_loss = 0.0\n",
    "    test_corrects = 0\n",
    "    with torch.no_grad():\n",
    "        for inputs, labels in tqdm(test_loader, desc=\"Testing\", leave=False):\n",
    "            inputs, labels = inputs.to(device), labels.to(device)\n",
    "            outputs = model(inputs)\n",
    "            loss = criterion(outputs, labels)\n",
    "            _, preds = torch.max(outputs, 1)\n",
    "            test_loss += loss.item() * inputs.size(0)\n",
    "            test_corrects += torch.sum(preds == labels.data)\n",
    "            tqdm.write(f\"Test Loss: {test_loss / len(test_dataset):.4f} Test Acc: {test_corrects.double() / len(test_dataset):.4f}\", end=\"\\r\")\n",
    "    test_loss /= len(test_dataset)\n",
    "    test_acc = test_corrects.double() / len(test_dataset)\n",
    "    print(f\"Test Loss: {test_loss:.4f} Acc: {test_acc:.4f}\")"
   ]
  },
  {
   "cell_type": "code",
   "execution_count": null,
   "id": "e254d210",
   "metadata": {
    "execution": {
     "iopub.execute_input": "2024-09-14T15:32:02.145304Z",
     "iopub.status.busy": "2024-09-14T15:32:02.144863Z",
     "iopub.status.idle": "2024-09-14T15:32:17.348333Z",
     "shell.execute_reply": "2024-09-14T15:32:17.347343Z",
     "shell.execute_reply.started": "2024-09-14T15:32:02.145253Z"
    },
    "papermill": {
     "duration": 11.69291,
     "end_time": "2024-08-21T11:48:12.925833",
     "exception": false,
     "start_time": "2024-08-21T11:48:01.232923",
     "status": "completed"
    },
    "tags": []
   },
   "outputs": [],
   "source": [
    "device = torch.device(\"cuda\" if torch.cuda.is_available() else \"cpu\")\n",
    "transform = transforms.Compose([\n",
    "    transforms.Resize((224, 224)),\n",
    "    transforms.ToTensor(),\n",
    "])\n",
    "train_dataset = CIFAR10Dataset(folder='/kaggle/input/cifar100/cifar100/train', transform=transform)\n",
    "test_dataset = CIFAR10Dataset(folder='/kaggle/input/cifar100/cifar100/test', transform=transform)\n",
    "train_idx, val_idx = train_test_split(\n",
    "    list(range(len(train_dataset))), test_size=0.20, stratify=train_dataset.labels\n",
    ")\n",
    "train_set = Subset(train_dataset, train_idx)\n",
    "val_set = Subset(train_dataset, val_idx)\n",
    "print(f'Training set size: {len(train_set)}')\n",
    "print(f'Validation set size: {len(val_set)}')\n",
    "print(f'Test set size: {len(test_dataset)}')\n",
    "batch_size = 64\n",
    "num_workers = 4\n",
    "train_loader = DataLoader(train_set, batch_size=batch_size, shuffle=True, num_workers=num_workers, pin_memory=True)\n",
    "val_loader = DataLoader(val_set, batch_size=batch_size, shuffle=False, num_workers=num_workers, pin_memory=True)\n",
    "test_loader = DataLoader(test_dataset, batch_size=batch_size, shuffle=False, num_workers=num_workers, pin_memory=True)\n",
    "pretrained_weights_path = '/kaggle/input/cifar100-colorization-bestmodel1/bestmodel.pth'\n",
    "model = ColorizationResNetForClassification(pretrained_weights_path).to(device)\n",
    "optimizer = optim.Adam(model.parameters(), lr=0.001, weight_decay=1e-4)\n",
    "criterion = nn.CrossEntropyLoss()"
   ]
  },
  {
   "cell_type": "code",
   "execution_count": null,
   "id": "f524ee0d",
   "metadata": {
    "execution": {
     "iopub.execute_input": "2024-09-14T15:32:17.350312Z",
     "iopub.status.busy": "2024-09-14T15:32:17.349966Z",
     "iopub.status.idle": "2024-09-14T15:32:19.057874Z",
     "shell.execute_reply": "2024-09-14T15:32:19.056832Z",
     "shell.execute_reply.started": "2024-09-14T15:32:17.350275Z"
    },
    "papermill": {
     "duration": 1.630706,
     "end_time": "2024-08-21T11:48:14.560785",
     "exception": false,
     "start_time": "2024-08-21T11:48:12.930079",
     "status": "completed"
    },
    "tags": []
   },
   "outputs": [],
   "source": [
    "plot_random_images_from_dataset(train_dataset)"
   ]
  },
  {
   "cell_type": "code",
   "execution_count": null,
   "id": "b28c18c9",
   "metadata": {
    "execution": {
     "iopub.execute_input": "2024-09-14T15:32:19.059554Z",
     "iopub.status.busy": "2024-09-14T15:32:19.059178Z",
     "iopub.status.idle": "2024-09-14T16:41:06.637712Z",
     "shell.execute_reply": "2024-09-14T16:41:06.636599Z",
     "shell.execute_reply.started": "2024-09-14T15:32:19.059512Z"
    },
    "papermill": {
     "duration": 4129.803526,
     "end_time": "2024-08-21T12:57:04.376991",
     "exception": false,
     "start_time": "2024-08-21T11:48:14.573465",
     "status": "completed"
    },
    "tags": []
   },
   "outputs": [],
   "source": [
    "train_and_val(model, train_loader, val_loader, criterion, optimizer, train_dataset, num_epochs=50, save_path='/kaggle/working/best_model.pth')"
   ]
  },
  {
   "cell_type": "code",
   "execution_count": null,
   "id": "385778a1",
   "metadata": {
    "execution": {
     "iopub.execute_input": "2024-09-14T16:41:06.640041Z",
     "iopub.status.busy": "2024-09-14T16:41:06.639581Z",
     "iopub.status.idle": "2024-09-14T16:41:25.161812Z",
     "shell.execute_reply": "2024-09-14T16:41:25.160598Z",
     "shell.execute_reply.started": "2024-09-14T16:41:06.639991Z"
    },
    "papermill": {
     "duration": 30.722339,
     "end_time": "2024-08-21T12:57:41.270638",
     "exception": false,
     "start_time": "2024-08-21T12:57:10.548299",
     "status": "completed"
    },
    "tags": []
   },
   "outputs": [],
   "source": [
    "test(model, test_loader, criterion, model_path='/kaggle/working/best_model.pth')"
   ]
  }
 ],
 "metadata": {
  "kaggle": {
   "accelerator": "gpu",
   "dataSources": [
    {
     "datasetId": 42895,
     "sourceId": 76089,
     "sourceType": "datasetVersion"
    },
    {
     "datasetId": 5333955,
     "sourceId": 8914197,
     "sourceType": "datasetVersion"
    },
    {
     "datasetId": 5578386,
     "sourceId": 9223916,
     "sourceType": "datasetVersion"
    }
   ],
   "dockerImageVersionId": 30762,
   "isGpuEnabled": true,
   "isInternetEnabled": true,
   "language": "python",
   "sourceType": "notebook"
  },
  "kernelspec": {
   "display_name": "Python 3",
   "language": "python",
   "name": "python3"
  },
  "language_info": {
   "codemirror_mode": {
    "name": "ipython",
    "version": 3
   },
   "file_extension": ".py",
   "mimetype": "text/x-python",
   "name": "python",
   "nbconvert_exporter": "python",
   "pygments_lexer": "ipython3",
   "version": "3.10.14"
  },
  "papermill": {
   "default_parameters": {},
   "duration": 4196.964872,
   "end_time": "2024-08-21T12:57:49.135063",
   "environment_variables": {},
   "exception": null,
   "input_path": "__notebook__.ipynb",
   "output_path": "__notebook__.ipynb",
   "parameters": {},
   "start_time": "2024-08-21T11:47:52.170191",
   "version": "2.5.0"
  }
 },
 "nbformat": 4,
 "nbformat_minor": 5
}
