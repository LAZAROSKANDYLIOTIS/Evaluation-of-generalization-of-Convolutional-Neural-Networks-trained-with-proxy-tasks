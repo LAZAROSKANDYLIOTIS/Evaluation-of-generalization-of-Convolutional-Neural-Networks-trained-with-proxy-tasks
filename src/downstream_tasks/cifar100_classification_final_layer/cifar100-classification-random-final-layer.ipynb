{
 "cells": [
  {
   "cell_type": "code",
   "execution_count": null,
   "id": "75778f57",
   "metadata": {
    "_cell_guid": "b1076dfc-b9ad-4769-8c92-a6c4dae69d19",
    "_uuid": "8f2839f25d086af736a60e9eeb907d3b93b6e0e5",
    "execution": {
     "iopub.execute_input": "2024-09-16T23:56:32.877514Z",
     "iopub.status.busy": "2024-09-16T23:56:32.876951Z",
     "iopub.status.idle": "2024-09-16T23:56:38.781732Z",
     "shell.execute_reply": "2024-09-16T23:56:38.780815Z",
     "shell.execute_reply.started": "2024-09-16T23:56:32.877476Z"
    },
    "papermill": {
     "duration": 6.406489,
     "end_time": "2024-08-20T19:50:34.894810",
     "exception": false,
     "start_time": "2024-08-20T19:50:28.488321",
     "status": "completed"
    },
    "tags": []
   },
   "outputs": [],
   "source": [
    "import os\n",
    "import torch\n",
    "import torch.nn as nn\n",
    "import torch.optim as optim\n",
    "import torchvision.models as models\n",
    "from torch.utils.data import DataLoader, Dataset, Subset\n",
    "from torchvision import transforms\n",
    "from sklearn.model_selection import train_test_split\n",
    "from PIL import Image\n",
    "from tqdm import tqdm\n",
    "import random\n",
    "import matplotlib.pyplot as plt\n",
    "import numpy as np"
   ]
  },
  {
   "cell_type": "code",
   "execution_count": null,
   "id": "2080625e",
   "metadata": {
    "execution": {
     "iopub.execute_input": "2024-09-16T23:56:38.784439Z",
     "iopub.status.busy": "2024-09-16T23:56:38.783704Z",
     "iopub.status.idle": "2024-09-16T23:56:38.793110Z",
     "shell.execute_reply": "2024-09-16T23:56:38.792136Z",
     "shell.execute_reply.started": "2024-09-16T23:56:38.784392Z"
    },
    "papermill": {
     "duration": 0.013075,
     "end_time": "2024-08-20T19:50:34.911621",
     "exception": false,
     "start_time": "2024-08-20T19:50:34.898546",
     "status": "completed"
    },
    "tags": []
   },
   "outputs": [],
   "source": [
    "def delete_all_in_folder(folder_path):\n",
    "    if os.path.exists(folder_path):\n",
    "        for filename in os.listdir(folder_path):\n",
    "            file_path = os.path.join(folder_path, filename)\n",
    "            try:\n",
    "                if os.path.isfile(file_path) or os.path.islink(file_path):\n",
    "                    os.unlink(file_path)\n",
    "                elif os.path.isdir(file_path):\n",
    "                    shutil.rmtree(file_path)\n",
    "            except Exception as e:\n",
    "                print(f'Failed to delete {file_path}. Reason: {e}')\n",
    "    else:\n",
    "        print(f'The folder {folder_path} does not exist.')\n",
    "delete_all_in_folder('/kaggle/working/')"
   ]
  },
  {
   "cell_type": "code",
   "execution_count": null,
   "id": "542fcde3",
   "metadata": {
    "execution": {
     "iopub.execute_input": "2024-09-16T23:56:38.795161Z",
     "iopub.status.busy": "2024-09-16T23:56:38.794269Z",
     "iopub.status.idle": "2024-09-16T23:56:38.810882Z",
     "shell.execute_reply": "2024-09-16T23:56:38.810085Z",
     "shell.execute_reply.started": "2024-09-16T23:56:38.795110Z"
    },
    "papermill": {
     "duration": 0.014646,
     "end_time": "2024-08-20T19:50:34.929738",
     "exception": false,
     "start_time": "2024-08-20T19:50:34.915092",
     "status": "completed"
    },
    "tags": []
   },
   "outputs": [],
   "source": [
    "def set_seed(seed_value: int):\n",
    "    \"\"\"\n",
    "    Set the seed for reproducibility in Python, NumPy, and PyTorch.\n",
    "    Args:\n",
    "    - seed_value (int): The seed value to use for reproducibility.\n",
    "    \"\"\"\n",
    "    random.seed(seed_value)\n",
    "    np.random.seed(seed_value)\n",
    "    torch.manual_seed(seed_value)\n",
    "    torch.cuda.manual_seed(seed_value)\n",
    "    torch.cuda.manual_seed_all(seed_value)\n",
    "    torch.backends.cudnn.deterministic = True\n",
    "    torch.backends.cudnn.benchmark = False\n",
    "seed_value = 42\n",
    "set_seed(seed_value)"
   ]
  },
  {
   "cell_type": "code",
   "execution_count": null,
   "id": "a4812d84",
   "metadata": {
    "execution": {
     "iopub.execute_input": "2024-09-16T23:56:38.814168Z",
     "iopub.status.busy": "2024-09-16T23:56:38.813776Z",
     "iopub.status.idle": "2024-09-16T23:56:38.824885Z",
     "shell.execute_reply": "2024-09-16T23:56:38.824085Z",
     "shell.execute_reply.started": "2024-09-16T23:56:38.814124Z"
    },
    "papermill": {
     "duration": 0.015618,
     "end_time": "2024-08-20T19:50:34.948542",
     "exception": false,
     "start_time": "2024-08-20T19:50:34.932924",
     "status": "completed"
    },
    "tags": []
   },
   "outputs": [],
   "source": [
    "class CIFAR100Dataset(Dataset):\n",
    "    def __init__(self, folder, transform=None):\n",
    "        self.folder = folder\n",
    "        self.transform = transform\n",
    "        self.image_paths = []\n",
    "        self.labels = []\n",
    "        self.classes = sorted(os.listdir(folder))\n",
    "        for label, class_name in enumerate(self.classes):\n",
    "            class_folder = os.path.join(folder, class_name)\n",
    "            for file in os.listdir(class_folder):\n",
    "                if file.endswith((\".jpg\", \".png\")):\n",
    "                    self.image_paths.append(os.path.join(class_folder, file))\n",
    "                    self.labels.append(label)\n",
    "    def __len__(self):\n",
    "        return len(self.image_paths)\n",
    "    def __getitem__(self, index):\n",
    "        image_path = self.image_paths[index]\n",
    "        label = self.labels[index]\n",
    "        image = Image.open(image_path).convert('RGB')\n",
    "        if self.transform:\n",
    "            image = self.transform(image)\n",
    "        return image, label\n",
    "def initialize_resnet50_for_cifar100():\n",
    "    resnet_cifar100 = models.resnet50(pretrained=False)\n",
    "    resnet_cifar100.fc = nn.Linear(resnet_cifar100.fc.in_features, 100)\n",
    "    for param in resnet_cifar100.parameters():\n",
    "        param.requires_grad = False\n",
    "    for param in resnet_cifar100.fc.parameters():\n",
    "        param.requires_grad = True\n",
    "    return resnet_cifar100"
   ]
  },
  {
   "cell_type": "code",
   "execution_count": null,
   "id": "dd0db73b",
   "metadata": {
    "execution": {
     "iopub.execute_input": "2024-09-16T23:56:38.826462Z",
     "iopub.status.busy": "2024-09-16T23:56:38.826137Z",
     "iopub.status.idle": "2024-09-16T23:56:38.840200Z",
     "shell.execute_reply": "2024-09-16T23:56:38.839375Z",
     "shell.execute_reply.started": "2024-09-16T23:56:38.826412Z"
    },
    "papermill": {
     "duration": 0.015859,
     "end_time": "2024-08-20T19:50:34.967677",
     "exception": false,
     "start_time": "2024-08-20T19:50:34.951818",
     "status": "completed"
    },
    "tags": []
   },
   "outputs": [],
   "source": [
    "def plot_random_images_from_dataset(dataset, num_images=10):\n",
    "    indices = random.sample(range(len(dataset)), num_images)\n",
    "    class_names = dataset.classes\n",
    "    plt.figure(figsize=(15, 8))\n",
    "    for i, idx in enumerate(indices):\n",
    "        image, label = dataset[idx]\n",
    "        image = image.permute(1, 2, 0)\n",
    "        plt.subplot(2, 5, i+1)\n",
    "        plt.imshow(image)\n",
    "        plt.title(f\"Class: {class_names[label]}\")\n",
    "        plt.axis('off')\n",
    "    plt.tight_layout()\n",
    "    plt.show()\n",
    "def plot_predictions(model, dataset, num_images=10):\n",
    "    model.eval()\n",
    "    indices = random.sample(range(len(dataset)), num_images)\n",
    "    class_names = dataset.classes\n",
    "    plt.figure(figsize=(15, 8))\n",
    "    with torch.no_grad():\n",
    "        for i, idx in enumerate(indices):\n",
    "            image, true_label = dataset[idx]\n",
    "            image_for_model = image.unsqueeze(0).to(device)\n",
    "            outputs = model(image_for_model)\n",
    "            _, predicted_label = torch.max(outputs, 1)\n",
    "            image = image.permute(1, 2, 0)\n",
    "            plt.subplot(2, 5, i+1)\n",
    "            plt.imshow(image)\n",
    "            plt.title(f\"True: {class_names[true_label]}\\nPred: {class_names[predicted_label.item()]}\")\n",
    "            plt.axis('off')\n",
    "    plt.tight_layout()\n",
    "    plt.show()"
   ]
  },
  {
   "cell_type": "code",
   "execution_count": null,
   "id": "ac5cddfe",
   "metadata": {
    "execution": {
     "iopub.execute_input": "2024-09-16T23:56:38.841932Z",
     "iopub.status.busy": "2024-09-16T23:56:38.841566Z",
     "iopub.status.idle": "2024-09-16T23:56:38.862563Z",
     "shell.execute_reply": "2024-09-16T23:56:38.861527Z",
     "shell.execute_reply.started": "2024-09-16T23:56:38.841891Z"
    },
    "papermill": {
     "duration": 0.023252,
     "end_time": "2024-08-20T19:50:34.994262",
     "exception": false,
     "start_time": "2024-08-20T19:50:34.971010",
     "status": "completed"
    },
    "tags": []
   },
   "outputs": [],
   "source": [
    "def train_and_val(model, train_loader, val_loader, criterion, optimizer, dataset, num_epochs=25, save_path='best_model.pth'):\n",
    "    best_val_acc = 0.0\n",
    "    for epoch in range(num_epochs):\n",
    "        print(f\"Epoch {epoch+1}/{num_epochs}\")\n",
    "        model.train()\n",
    "        running_loss = 0.0\n",
    "        running_corrects = 0\n",
    "        train_bar = tqdm(train_loader, desc=f\"Training Epoch {epoch+1}/{num_epochs}\", leave=False)\n",
    "        for inputs, labels in train_bar:\n",
    "            inputs, labels = inputs.to(device), labels.to(device)\n",
    "            optimizer.zero_grad()\n",
    "            outputs = model(inputs)\n",
    "            loss = criterion(outputs, labels)\n",
    "            loss.backward()\n",
    "            optimizer.step()\n",
    "            _, preds = torch.max(outputs, 1)\n",
    "            running_loss += loss.item() * inputs.size(0)\n",
    "            running_corrects += torch.sum(preds == labels.data)\n",
    "            current_loss = running_loss / len(train_loader.dataset)\n",
    "            current_acc = running_corrects.double() / len(train_loader.dataset)\n",
    "            train_bar.set_postfix(Loss=f\"{current_loss:.4f}\", Accuracy=f\"{current_acc:.4f}\")\n",
    "        epoch_loss = running_loss / len(train_loader.dataset)\n",
    "        epoch_acc = running_corrects.double() / len(train_loader.dataset)\n",
    "        print(f\"Training Loss: {epoch_loss:.4f} Acc: {epoch_acc:.4f}\")\n",
    "        model.eval()\n",
    "        val_loss = 0.0\n",
    "        val_corrects = 0\n",
    "        val_bar = tqdm(val_loader, desc=f\"Validation Epoch {epoch+1}/{num_epochs}\", leave=False)\n",
    "        with torch.no_grad():\n",
    "            for inputs, labels in val_bar:\n",
    "                inputs, labels = inputs.to(device), labels.to(device)\n",
    "                outputs = model(inputs)\n",
    "                loss = criterion(outputs, labels)\n",
    "                _, preds = torch.max(outputs, 1)\n",
    "                val_loss += loss.item() * inputs.size(0)\n",
    "                val_corrects += torch.sum(preds == labels.data)\n",
    "                current_val_loss = val_loss / len(val_loader.dataset)\n",
    "                current_val_acc = val_corrects.double() / len(val_loader.dataset)\n",
    "                val_bar.set_postfix(Val_Loss=f\"{current_val_loss:.4f}\", Val_Accuracy=f\"{current_val_acc:.4f}\")\n",
    "        val_loss /= len(val_loader.dataset)\n",
    "        val_acc = val_corrects.double() / len(val_loader.dataset)\n",
    "        print(f\"Validation Loss: {val_loss:.4f} Acc: {val_acc:.4f}\")\n",
    "        if val_acc > best_val_acc:\n",
    "            best_val_acc = val_acc\n",
    "            torch.save(model.state_dict(), save_path)\n",
    "            print(f\"Best model saved with accuracy: {best_val_acc:.4f}\")\n",
    "def test(model, test_loader, criterion, model_path='best_model.pth'):\n",
    "    model.load_state_dict(torch.load(model_path))\n",
    "    model.eval()\n",
    "    test_loss = 0.0\n",
    "    test_corrects = 0\n",
    "    with torch.no_grad():\n",
    "        for inputs, labels in tqdm(test_loader, desc=\"Testing\", leave=False):\n",
    "            inputs, labels = inputs.to(device), labels.to(device)\n",
    "            outputs = model(inputs)\n",
    "            loss = criterion(outputs, labels)\n",
    "            _, preds = torch.max(outputs, 1)\n",
    "            test_loss += loss.item() * inputs.size(0)\n",
    "            test_corrects += torch.sum(preds == labels.data)\n",
    "            tqdm.write(f\"Test Loss: {test_loss / len(test_dataset):.4f} Test Acc: {test_corrects.double() / len(test_dataset):.4f}\", end=\"\\r\")\n",
    "    test_loss /= len(test_dataset)\n",
    "    test_acc = test_corrects.double() / len(test_dataset)\n",
    "    print(f\"Test Loss: {test_loss:.4f} Acc: {test_acc:.4f}\")"
   ]
  },
  {
   "cell_type": "code",
   "execution_count": null,
   "id": "86f47d75",
   "metadata": {
    "execution": {
     "iopub.execute_input": "2024-09-16T23:56:38.864260Z",
     "iopub.status.busy": "2024-09-16T23:56:38.863919Z",
     "iopub.status.idle": "2024-09-16T23:56:45.439276Z",
     "shell.execute_reply": "2024-09-16T23:56:45.438476Z",
     "shell.execute_reply.started": "2024-09-16T23:56:38.864228Z"
    },
    "papermill": {
     "duration": 2.776905,
     "end_time": "2024-08-20T19:50:37.774614",
     "exception": false,
     "start_time": "2024-08-20T19:50:34.997709",
     "status": "completed"
    },
    "tags": []
   },
   "outputs": [],
   "source": [
    "device = torch.device(\"cuda\" if torch.cuda.is_available() else \"cpu\")\n",
    "transform = transforms.Compose([\n",
    "    transforms.Resize((225, 225)),\n",
    "    transforms.ToTensor(),\n",
    "])\n",
    "train_dataset = CIFAR100Dataset(folder='/kaggle/input/cifar100/cifar100/train', transform=transform)\n",
    "test_dataset = CIFAR100Dataset(folder='/kaggle/input/cifar100/cifar100/test', transform=transform)\n",
    "train_idx, val_idx = train_test_split(\n",
    "    list(range(len(train_dataset))), test_size=0.20, stratify=train_dataset.labels\n",
    ")\n",
    "train_set = Subset(train_dataset, train_idx)\n",
    "val_set = Subset(train_dataset, val_idx)\n",
    "print(f'Training set size: {len(train_set)}')\n",
    "print(f'Validation set size: {len(val_set)}')\n",
    "print(f'Test set size: {len(test_dataset)}')\n",
    "batch_size = 64\n",
    "num_workers = 8\n",
    "train_loader = DataLoader(train_set, batch_size=batch_size, shuffle=True, num_workers=num_workers, pin_memory=True)\n",
    "val_loader = DataLoader(val_set, batch_size=batch_size, shuffle=False, num_workers=num_workers, pin_memory=True)\n",
    "test_loader = DataLoader(test_dataset, batch_size=batch_size, shuffle=False, num_workers=num_workers, pin_memory=True)\n",
    "model = initialize_resnet50_for_cifar100().to(device)\n",
    "optimizer = optim.Adam(model.parameters(), lr=0.001, weight_decay=1e-4)\n",
    "criterion = nn.CrossEntropyLoss()"
   ]
  },
  {
   "cell_type": "code",
   "execution_count": null,
   "id": "3f448e0c",
   "metadata": {
    "execution": {
     "iopub.execute_input": "2024-09-16T23:56:45.440808Z",
     "iopub.status.busy": "2024-09-16T23:56:45.440442Z",
     "iopub.status.idle": "2024-09-16T23:56:47.108066Z",
     "shell.execute_reply": "2024-09-16T23:56:47.107126Z",
     "shell.execute_reply.started": "2024-09-16T23:56:45.440763Z"
    },
    "papermill": {
     "duration": 1.516649,
     "end_time": "2024-08-20T19:50:39.295721",
     "exception": false,
     "start_time": "2024-08-20T19:50:37.779072",
     "status": "completed"
    },
    "tags": []
   },
   "outputs": [],
   "source": [
    "plot_random_images_from_dataset(train_dataset)"
   ]
  },
  {
   "cell_type": "code",
   "execution_count": null,
   "id": "31efd801",
   "metadata": {
    "execution": {
     "iopub.execute_input": "2024-09-16T23:56:47.109671Z",
     "iopub.status.busy": "2024-09-16T23:56:47.109280Z",
     "iopub.status.idle": "2024-09-17T01:16:07.395982Z",
     "shell.execute_reply": "2024-09-17T01:16:07.394897Z",
     "shell.execute_reply.started": "2024-09-16T23:56:47.109634Z"
    },
    "papermill": {
     "duration": 4764.383379,
     "end_time": "2024-08-20T21:10:03.691468",
     "exception": false,
     "start_time": "2024-08-20T19:50:39.308089",
     "status": "completed"
    },
    "tags": []
   },
   "outputs": [],
   "source": [
    "train_and_val(model, train_loader, val_loader, criterion, optimizer, train_dataset, num_epochs=50, save_path='/kaggle/working/best_model.pth')"
   ]
  },
  {
   "cell_type": "code",
   "execution_count": null,
   "id": "20587b86",
   "metadata": {
    "execution": {
     "iopub.execute_input": "2024-09-17T01:16:07.399726Z",
     "iopub.status.busy": "2024-09-17T01:16:07.399310Z",
     "iopub.status.idle": "2024-09-17T01:16:26.022261Z",
     "shell.execute_reply": "2024-09-17T01:16:26.021006Z",
     "shell.execute_reply.started": "2024-09-17T01:16:07.399681Z"
    },
    "papermill": {
     "duration": 25.509931,
     "end_time": "2024-08-20T21:10:35.670579",
     "exception": false,
     "start_time": "2024-08-20T21:10:10.160648",
     "status": "completed"
    },
    "tags": []
   },
   "outputs": [],
   "source": [
    "test(model, test_loader, criterion, model_path='/kaggle/working/best_model.pth')"
   ]
  }
 ],
 "metadata": {
  "kaggle": {
   "accelerator": "gpu",
   "dataSources": [
    {
     "datasetId": 42895,
     "sourceId": 76089,
     "sourceType": "datasetVersion"
    },
    {
     "datasetId": 5333955,
     "sourceId": 8914197,
     "sourceType": "datasetVersion"
    }
   ],
   "dockerImageVersionId": 30762,
   "isGpuEnabled": true,
   "isInternetEnabled": true,
   "language": "python",
   "sourceType": "notebook"
  },
  "kernelspec": {
   "display_name": "Python 3",
   "language": "python",
   "name": "python3"
  },
  "language_info": {
   "codemirror_mode": {
    "name": "ipython",
    "version": 3
   },
   "file_extension": ".py",
   "mimetype": "text/x-python",
   "name": "python",
   "nbconvert_exporter": "python",
   "pygments_lexer": "ipython3",
   "version": "3.10.14"
  },
  "papermill": {
   "default_parameters": {},
   "duration": 4818.912362,
   "end_time": "2024-08-20T21:10:44.659602",
   "environment_variables": {},
   "exception": null,
   "input_path": "__notebook__.ipynb",
   "output_path": "__notebook__.ipynb",
   "parameters": {},
   "start_time": "2024-08-20T19:50:25.747240",
   "version": "2.5.0"
  }
 },
 "nbformat": 4,
 "nbformat_minor": 5
}
