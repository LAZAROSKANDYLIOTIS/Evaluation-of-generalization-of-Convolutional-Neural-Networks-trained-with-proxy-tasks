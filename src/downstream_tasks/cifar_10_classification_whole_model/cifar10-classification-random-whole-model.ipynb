{
 "cells": [
  {
   "cell_type": "code",
   "execution_count": null,
   "id": "e973a01d",
   "metadata": {
    "_cell_guid": "b1076dfc-b9ad-4769-8c92-a6c4dae69d19",
    "_uuid": "8f2839f25d086af736a60e9eeb907d3b93b6e0e5",
    "execution": {
     "iopub.execute_input": "2024-09-18T00:11:18.543794Z",
     "iopub.status.busy": "2024-09-18T00:11:18.543396Z",
     "iopub.status.idle": "2024-09-18T00:11:24.685965Z",
     "shell.execute_reply": "2024-09-18T00:11:24.685021Z"
    },
    "papermill": {
     "duration": 6.15078,
     "end_time": "2024-09-18T00:11:24.688321",
     "exception": false,
     "start_time": "2024-09-18T00:11:18.537541",
     "status": "completed"
    },
    "tags": []
   },
   "outputs": [],
   "source": [
    "import os\n",
    "import torch\n",
    "import torch.nn as nn\n",
    "import torch.optim as optim\n",
    "import torchvision.models as models\n",
    "from torch.utils.data import DataLoader, Dataset, Subset\n",
    "from torchvision import transforms\n",
    "from sklearn.model_selection import train_test_split\n",
    "from PIL import Image\n",
    "from tqdm import tqdm\n",
    "import random\n",
    "import matplotlib.pyplot as plt\n",
    "import numpy as np"
   ]
  },
  {
   "cell_type": "code",
   "execution_count": null,
   "id": "26624232",
   "metadata": {
    "execution": {
     "iopub.execute_input": "2024-09-18T00:11:24.698089Z",
     "iopub.status.busy": "2024-09-18T00:11:24.697583Z",
     "iopub.status.idle": "2024-09-18T00:11:24.706800Z",
     "shell.execute_reply": "2024-09-18T00:11:24.705911Z"
    },
    "papermill": {
     "duration": 0.016161,
     "end_time": "2024-09-18T00:11:24.708787",
     "exception": false,
     "start_time": "2024-09-18T00:11:24.692626",
     "status": "completed"
    },
    "tags": []
   },
   "outputs": [],
   "source": [
    "def delete_all_in_folder(folder_path):\n",
    "    if os.path.exists(folder_path):\n",
    "        for filename in os.listdir(folder_path):\n",
    "            file_path = os.path.join(folder_path, filename)\n",
    "            try:\n",
    "                if os.path.isfile(file_path) or os.path.islink(file_path):\n",
    "                    os.unlink(file_path)\n",
    "                elif os.path.isdir(file_path):\n",
    "                    shutil.rmtree(file_path)\n",
    "            except Exception as e:\n",
    "                print(f'Failed to delete {file_path}. Reason: {e}')\n",
    "    else:\n",
    "        print(f'The folder {folder_path} does not exist.')\n",
    "delete_all_in_folder('/kaggle/working/')"
   ]
  },
  {
   "cell_type": "code",
   "execution_count": null,
   "id": "fda99f9e",
   "metadata": {
    "execution": {
     "iopub.execute_input": "2024-09-18T00:11:24.717299Z",
     "iopub.status.busy": "2024-09-18T00:11:24.717000Z",
     "iopub.status.idle": "2024-09-18T00:11:24.730515Z",
     "shell.execute_reply": "2024-09-18T00:11:24.729679Z"
    },
    "papermill": {
     "duration": 0.020134,
     "end_time": "2024-09-18T00:11:24.732548",
     "exception": false,
     "start_time": "2024-09-18T00:11:24.712414",
     "status": "completed"
    },
    "tags": []
   },
   "outputs": [],
   "source": [
    "def set_seed(seed_value: int):\n",
    "    \"\"\"\n",
    "    Set the seed for reproducibility in Python, NumPy, and PyTorch.\n",
    "    Args:\n",
    "    - seed_value (int): The seed value to use for reproducibility.\n",
    "    \"\"\"\n",
    "    random.seed(seed_value)\n",
    "    np.random.seed(seed_value)\n",
    "    torch.manual_seed(seed_value)\n",
    "    torch.cuda.manual_seed(seed_value)\n",
    "    torch.cuda.manual_seed_all(seed_value)\n",
    "    torch.backends.cudnn.deterministic = True\n",
    "    torch.backends.cudnn.benchmark = False\n",
    "seed_value = 42\n",
    "set_seed(seed_value)"
   ]
  },
  {
   "cell_type": "code",
   "execution_count": null,
   "id": "a10efb52",
   "metadata": {
    "execution": {
     "iopub.execute_input": "2024-09-18T00:11:24.741970Z",
     "iopub.status.busy": "2024-09-18T00:11:24.741159Z",
     "iopub.status.idle": "2024-09-18T00:11:24.753662Z",
     "shell.execute_reply": "2024-09-18T00:11:24.752833Z"
    },
    "papermill": {
     "duration": 0.019179,
     "end_time": "2024-09-18T00:11:24.755596",
     "exception": false,
     "start_time": "2024-09-18T00:11:24.736417",
     "status": "completed"
    },
    "tags": []
   },
   "outputs": [],
   "source": [
    "class CIFAR100Dataset(Dataset):\n",
    "    def __init__(self, folder, transform=None):\n",
    "        self.folder = folder\n",
    "        self.transform = transform\n",
    "        self.image_paths = []\n",
    "        self.labels = []\n",
    "        self.classes = sorted(os.listdir(folder))\n",
    "        for label, class_name in enumerate(self.classes):\n",
    "            class_folder = os.path.join(folder, class_name)\n",
    "            for file in os.listdir(class_folder):\n",
    "                if file.endswith((\".jpg\", \".png\")):\n",
    "                    self.image_paths.append(os.path.join(class_folder, file))\n",
    "                    self.labels.append(label)\n",
    "    def __len__(self):\n",
    "        return len(self.image_paths)\n",
    "    def __getitem__(self, index):\n",
    "        image_path = self.image_paths[index]\n",
    "        label = self.labels[index]\n",
    "        image = Image.open(image_path).convert('RGB')\n",
    "        if self.transform:\n",
    "            image = self.transform(image)\n",
    "        return image, label\n",
    "class ResNet50ForCIFAR10(nn.Module):\n",
    "    def __init__(self, num_classes=10):\n",
    "        super(ResNet50ForCIFAR10, self).__init__()\n",
    "        self.resnet = models.resnet50(pretrained=False)\n",
    "        self.resnet.fc = nn.Sequential(\n",
    "            nn.Linear(self.resnet.fc.in_features, 1024),\n",
    "            nn.ReLU(),\n",
    "            nn.Linear(1024, 512),\n",
    "            nn.ReLU(),\n",
    "            nn.Linear(512, 256),\n",
    "            nn.ReLU(),\n",
    "            nn.Linear(256, 128),\n",
    "            nn.ReLU(),\n",
    "            nn.Linear(128, 10)\n",
    "        )\n",
    "    def forward(self, x):\n",
    "        return self.resnet(x)"
   ]
  },
  {
   "cell_type": "code",
   "execution_count": null,
   "id": "1a7e7434",
   "metadata": {
    "execution": {
     "iopub.execute_input": "2024-09-18T00:11:24.764190Z",
     "iopub.status.busy": "2024-09-18T00:11:24.763847Z",
     "iopub.status.idle": "2024-09-18T00:11:24.777155Z",
     "shell.execute_reply": "2024-09-18T00:11:24.776311Z"
    },
    "papermill": {
     "duration": 0.020229,
     "end_time": "2024-09-18T00:11:24.779406",
     "exception": false,
     "start_time": "2024-09-18T00:11:24.759177",
     "status": "completed"
    },
    "tags": []
   },
   "outputs": [],
   "source": [
    "def plot_random_images_from_dataset(dataset, num_images=10):\n",
    "    indices = random.sample(range(len(dataset)), num_images)\n",
    "    class_names = dataset.classes\n",
    "    plt.figure(figsize=(15, 8))\n",
    "    for i, idx in enumerate(indices):\n",
    "        image, label = dataset[idx]\n",
    "        image = image.permute(1, 2, 0)\n",
    "        plt.subplot(2, 5, i+1)\n",
    "        plt.imshow(image)\n",
    "        plt.title(f\"Class: {class_names[label]}\")\n",
    "        plt.axis('off')\n",
    "    plt.tight_layout()\n",
    "    plt.show()\n",
    "def plot_predictions(model, dataset, num_images=10):\n",
    "    model.eval()\n",
    "    indices = random.sample(range(len(dataset)), num_images)\n",
    "    class_names = dataset.classes\n",
    "    plt.figure(figsize=(15, 8))\n",
    "    with torch.no_grad():\n",
    "        for i, idx in enumerate(indices):\n",
    "            image, true_label = dataset[idx]\n",
    "            image_for_model = image.unsqueeze(0).to(device)\n",
    "            outputs = model(image_for_model)\n",
    "            _, predicted_label = torch.max(outputs, 1)\n",
    "            image = image.permute(1, 2, 0)\n",
    "            plt.subplot(2, 5, i+1)\n",
    "            plt.imshow(image)\n",
    "            plt.title(f\"True: {class_names[true_label]}\\nPred: {class_names[predicted_label.item()]}\")\n",
    "            plt.axis('off')\n",
    "    plt.tight_layout()\n",
    "    plt.show()"
   ]
  },
  {
   "cell_type": "code",
   "execution_count": null,
   "id": "d5fd6ed0",
   "metadata": {
    "execution": {
     "iopub.execute_input": "2024-09-18T00:11:24.791254Z",
     "iopub.status.busy": "2024-09-18T00:11:24.790962Z",
     "iopub.status.idle": "2024-09-18T00:11:24.808766Z",
     "shell.execute_reply": "2024-09-18T00:11:24.807858Z"
    },
    "papermill": {
     "duration": 0.02606,
     "end_time": "2024-09-18T00:11:24.810813",
     "exception": false,
     "start_time": "2024-09-18T00:11:24.784753",
     "status": "completed"
    },
    "tags": []
   },
   "outputs": [],
   "source": [
    "def train_and_val(model, train_loader, val_loader, criterion, optimizer, dataset, num_epochs=25, save_path='best_model.pth'):\n",
    "    best_val_acc = 0.0\n",
    "    for epoch in range(num_epochs):\n",
    "        print(f\"Epoch {epoch+1}/{num_epochs}\")\n",
    "        model.train()\n",
    "        running_loss = 0.0\n",
    "        running_corrects = 0\n",
    "        train_bar = tqdm(train_loader, desc=f\"Training Epoch {epoch+1}/{num_epochs}\", leave=False)\n",
    "        for inputs, labels in train_bar:\n",
    "            inputs, labels = inputs.to(device), labels.to(device)\n",
    "            optimizer.zero_grad()\n",
    "            outputs = model(inputs)\n",
    "            loss = criterion(outputs, labels)\n",
    "            loss.backward()\n",
    "            optimizer.step()\n",
    "            _, preds = torch.max(outputs, 1)\n",
    "            running_loss += loss.item() * inputs.size(0)\n",
    "            running_corrects += torch.sum(preds == labels.data)\n",
    "            current_loss = running_loss / len(train_loader.dataset)\n",
    "            current_acc = running_corrects.double() / len(train_loader.dataset)\n",
    "            train_bar.set_postfix(Loss=f\"{current_loss:.4f}\", Accuracy=f\"{current_acc:.4f}\")\n",
    "        epoch_loss = running_loss / len(train_loader.dataset)\n",
    "        epoch_acc = running_corrects.double() / len(train_loader.dataset)\n",
    "        print(f\"Training Loss: {epoch_loss:.4f} Acc: {epoch_acc:.4f}\")\n",
    "        model.eval()\n",
    "        val_loss = 0.0\n",
    "        val_corrects = 0\n",
    "        val_bar = tqdm(val_loader, desc=f\"Validation Epoch {epoch+1}/{num_epochs}\", leave=False)\n",
    "        with torch.no_grad():\n",
    "            for inputs, labels in val_bar:\n",
    "                inputs, labels = inputs.to(device), labels.to(device)\n",
    "                outputs = model(inputs)\n",
    "                loss = criterion(outputs, labels)\n",
    "                _, preds = torch.max(outputs, 1)\n",
    "                val_loss += loss.item() * inputs.size(0)\n",
    "                val_corrects += torch.sum(preds == labels.data)\n",
    "                current_val_loss = val_loss / len(val_loader.dataset)\n",
    "                current_val_acc = val_corrects.double() / len(val_loader.dataset)\n",
    "                val_bar.set_postfix(Val_Loss=f\"{current_val_loss:.4f}\", Val_Accuracy=f\"{current_val_acc:.4f}\")\n",
    "        val_loss /= len(val_loader.dataset)\n",
    "        val_acc = val_corrects.double() / len(val_loader.dataset)\n",
    "        print(f\"Validation Loss: {val_loss:.4f} Acc: {val_acc:.4f}\")\n",
    "        if val_acc > best_val_acc:\n",
    "            best_val_acc = val_acc\n",
    "            torch.save(model.state_dict(), save_path)\n",
    "            print(f\"Best model saved with accuracy: {best_val_acc:.4f}\")\n",
    "def test(model, test_loader, criterion, model_path='best_model.pth'):\n",
    "    model.load_state_dict(torch.load(model_path))\n",
    "    model.eval()\n",
    "    test_loss = 0.0\n",
    "    test_corrects = 0\n",
    "    with torch.no_grad():\n",
    "        for inputs, labels in tqdm(test_loader, desc=\"Testing\", leave=False):\n",
    "            inputs, labels = inputs.to(device), labels.to(device)\n",
    "            outputs = model(inputs)\n",
    "            loss = criterion(outputs, labels)\n",
    "            _, preds = torch.max(outputs, 1)\n",
    "            test_loss += loss.item() * inputs.size(0)\n",
    "            test_corrects += torch.sum(preds == labels.data)\n",
    "            tqdm.write(f\"Test Loss: {test_loss / len(test_dataset):.4f} Test Acc: {test_corrects.double() / len(test_dataset):.4f}\", end=\"\\r\")\n",
    "    test_loss /= len(test_dataset)\n",
    "    test_acc = test_corrects.double() / len(test_dataset)\n",
    "    print(f\"Test Loss: {test_loss:.4f} Acc: {test_acc:.4f}\")"
   ]
  },
  {
   "cell_type": "code",
   "execution_count": null,
   "id": "8b287af3",
   "metadata": {
    "execution": {
     "iopub.execute_input": "2024-09-18T00:11:24.819596Z",
     "iopub.status.busy": "2024-09-18T00:11:24.819270Z",
     "iopub.status.idle": "2024-09-18T00:11:27.914583Z",
     "shell.execute_reply": "2024-09-18T00:11:27.913642Z"
    },
    "papermill": {
     "duration": 3.102171,
     "end_time": "2024-09-18T00:11:27.916916",
     "exception": false,
     "start_time": "2024-09-18T00:11:24.814745",
     "status": "completed"
    },
    "tags": []
   },
   "outputs": [],
   "source": [
    "device = torch.device(\"cuda\" if torch.cuda.is_available() else \"cpu\")\n",
    "transform = transforms.Compose([\n",
    "    transforms.Resize((225, 225)),\n",
    "    transforms.ToTensor(),\n",
    "])\n",
    "train_dataset = CIFAR100Dataset(folder='/kaggle/input/cifar10/cifar10/train', transform=transform)\n",
    "test_dataset = CIFAR100Dataset(folder='/kaggle/input/cifar10/cifar10/test', transform=transform)\n",
    "train_idx, val_idx = train_test_split(\n",
    "    list(range(len(train_dataset))), test_size=0.20, stratify=train_dataset.labels\n",
    ")\n",
    "train_set = Subset(train_dataset, train_idx)\n",
    "val_set = Subset(train_dataset, val_idx)\n",
    "print(f'Training set size: {len(train_set)}')\n",
    "print(f'Validation set size: {len(val_set)}')\n",
    "print(f'Test set size: {len(test_dataset)}')\n",
    "batch_size = 64\n",
    "num_workers = 8\n",
    "train_loader = DataLoader(train_set, batch_size=batch_size, shuffle=True, num_workers=num_workers, pin_memory=True)\n",
    "val_loader = DataLoader(val_set, batch_size=batch_size, shuffle=False, num_workers=num_workers, pin_memory=True)\n",
    "test_loader = DataLoader(test_dataset, batch_size=batch_size, shuffle=False, num_workers=num_workers, pin_memory=True)\n",
    "model = ResNet50ForCIFAR10().to(device)\n",
    "optimizer = optim.Adam(model.parameters(), lr=0.001, weight_decay=1e-4)\n",
    "criterion = nn.CrossEntropyLoss()"
   ]
  },
  {
   "cell_type": "code",
   "execution_count": null,
   "id": "14236c27",
   "metadata": {
    "execution": {
     "iopub.execute_input": "2024-09-18T00:11:27.926775Z",
     "iopub.status.busy": "2024-09-18T00:11:27.926141Z",
     "iopub.status.idle": "2024-09-18T00:11:29.479581Z",
     "shell.execute_reply": "2024-09-18T00:11:29.478594Z"
    },
    "papermill": {
     "duration": 1.568863,
     "end_time": "2024-09-18T00:11:29.489887",
     "exception": false,
     "start_time": "2024-09-18T00:11:27.921024",
     "status": "completed"
    },
    "tags": []
   },
   "outputs": [],
   "source": [
    "plot_random_images_from_dataset(train_dataset)"
   ]
  },
  {
   "cell_type": "code",
   "execution_count": null,
   "id": "6d2eb693",
   "metadata": {
    "execution": {
     "iopub.execute_input": "2024-09-18T00:11:29.516919Z",
     "iopub.status.busy": "2024-09-18T00:11:29.516562Z",
     "iopub.status.idle": "2024-09-18T03:50:55.063816Z",
     "shell.execute_reply": "2024-09-18T03:50:55.062657Z"
    },
    "papermill": {
     "duration": 13165.562967,
     "end_time": "2024-09-18T03:50:55.065895",
     "exception": false,
     "start_time": "2024-09-18T00:11:29.502928",
     "status": "completed"
    },
    "tags": []
   },
   "outputs": [],
   "source": [
    "train_and_val(model, train_loader, val_loader, criterion, optimizer, train_dataset, num_epochs=50, save_path='/kaggle/working/best_model.pth')"
   ]
  },
  {
   "cell_type": "code",
   "execution_count": null,
   "id": "78bbd319",
   "metadata": {
    "execution": {
     "iopub.execute_input": "2024-09-18T03:51:07.979177Z",
     "iopub.status.busy": "2024-09-18T03:51:07.978784Z",
     "iopub.status.idle": "2024-09-18T03:51:26.575493Z",
     "shell.execute_reply": "2024-09-18T03:51:26.574259Z"
    },
    "papermill": {
     "duration": 25.088205,
     "end_time": "2024-09-18T03:51:26.577678",
     "exception": false,
     "start_time": "2024-09-18T03:51:01.489473",
     "status": "completed"
    },
    "tags": []
   },
   "outputs": [],
   "source": [
    "test(model, test_loader, criterion, model_path='/kaggle/working/best_model.pth')"
   ]
  }
 ],
 "metadata": {
  "kaggle": {
   "accelerator": "gpu",
   "dataSources": [
    {
     "datasetId": 42895,
     "sourceId": 76089,
     "sourceType": "datasetVersion"
    },
    {
     "datasetId": 5333955,
     "sourceId": 8914197,
     "sourceType": "datasetVersion"
    }
   ],
   "dockerImageVersionId": 30762,
   "isGpuEnabled": true,
   "isInternetEnabled": true,
   "language": "python",
   "sourceType": "notebook"
  },
  "kernelspec": {
   "display_name": "Python 3",
   "language": "python",
   "name": "python3"
  },
  "language_info": {
   "codemirror_mode": {
    "name": "ipython",
    "version": 3
   },
   "file_extension": ".py",
   "mimetype": "text/x-python",
   "name": "python",
   "nbconvert_exporter": "python",
   "pygments_lexer": "ipython3",
   "version": "3.10.14"
  },
  "papermill": {
   "default_parameters": {},
   "duration": 13219.772659,
   "end_time": "2024-09-18T03:51:35.522232",
   "environment_variables": {},
   "exception": null,
   "input_path": "__notebook__.ipynb",
   "output_path": "__notebook__.ipynb",
   "parameters": {},
   "start_time": "2024-09-18T00:11:15.749573",
   "version": "2.5.0"
  }
 },
 "nbformat": 4,
 "nbformat_minor": 5
}
